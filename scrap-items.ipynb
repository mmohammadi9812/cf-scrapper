{
 "cells": [
  {
   "cell_type": "code",
   "execution_count": 2,
   "id": "bibliographic-negative",
   "metadata": {},
   "outputs": [],
   "source": [
    "import mechanicalsoup\n",
    "from collections import namedtuple\n",
    "import pandas as pd\n",
    "import pathlib\n",
    "import re\n",
    "import os\n",
    "import sqlite3\n",
    "from tqdm import tqdm"
   ]
  },
  {
   "cell_type": "code",
   "execution_count": 3,
   "id": "thorough-watts",
   "metadata": {},
   "outputs": [],
   "source": [
    "conn = sqlite3.connect('./links.sqlite3')\n",
    "cursor = conn.execute('SELECT name, difficulty, link, contest FROM codeforces ORDER BY contest;')"
   ]
  },
  {
   "cell_type": "code",
   "execution_count": 4,
   "id": "protecting-pound",
   "metadata": {},
   "outputs": [
    {
     "output_type": "execute_result",
     "data": {
      "text/plain": [
       "                     name difficulty  \\\n",
       "0  Ancient Berland Circus          C   \n",
       "1             Spreadsheet          B   \n",
       "2          Theatre Square          A   \n",
       "3     Commentator problem          C   \n",
       "4     The least round way          B   \n",
       "\n",
       "                                           link  contest  \n",
       "0  http://codeforces.com/problemset/problem/1/C        1  \n",
       "1  http://codeforces.com/problemset/problem/1/B        1  \n",
       "2  http://codeforces.com/problemset/problem/1/A        1  \n",
       "3  http://codeforces.com/problemset/problem/2/C        2  \n",
       "4  http://codeforces.com/problemset/problem/2/B        2  "
      ],
      "text/html": "<div>\n<style scoped>\n    .dataframe tbody tr th:only-of-type {\n        vertical-align: middle;\n    }\n\n    .dataframe tbody tr th {\n        vertical-align: top;\n    }\n\n    .dataframe thead th {\n        text-align: right;\n    }\n</style>\n<table border=\"1\" class=\"dataframe\">\n  <thead>\n    <tr style=\"text-align: right;\">\n      <th></th>\n      <th>name</th>\n      <th>difficulty</th>\n      <th>link</th>\n      <th>contest</th>\n    </tr>\n  </thead>\n  <tbody>\n    <tr>\n      <th>0</th>\n      <td>Ancient Berland Circus</td>\n      <td>C</td>\n      <td>http://codeforces.com/problemset/problem/1/C</td>\n      <td>1</td>\n    </tr>\n    <tr>\n      <th>1</th>\n      <td>Spreadsheet</td>\n      <td>B</td>\n      <td>http://codeforces.com/problemset/problem/1/B</td>\n      <td>1</td>\n    </tr>\n    <tr>\n      <th>2</th>\n      <td>Theatre Square</td>\n      <td>A</td>\n      <td>http://codeforces.com/problemset/problem/1/A</td>\n      <td>1</td>\n    </tr>\n    <tr>\n      <th>3</th>\n      <td>Commentator problem</td>\n      <td>C</td>\n      <td>http://codeforces.com/problemset/problem/2/C</td>\n      <td>2</td>\n    </tr>\n    <tr>\n      <th>4</th>\n      <td>The least round way</td>\n      <td>B</td>\n      <td>http://codeforces.com/problemset/problem/2/B</td>\n      <td>2</td>\n    </tr>\n  </tbody>\n</table>\n</div>"
     },
     "metadata": {},
     "execution_count": 4
    }
   ],
   "source": [
    "df = pd.DataFrame(cursor.fetchall())\n",
    "df.columns = [description[0] for description in cursor.description]\n",
    "df.head()"
   ]
  },
  {
   "cell_type": "code",
   "execution_count": 5,
   "id": "early-paint",
   "metadata": {},
   "outputs": [],
   "source": [
    "browser = mechanicalsoup.StatefulBrowser()"
   ]
  },
  {
   "cell_type": "code",
   "execution_count": 6,
   "id": "monetary-impact",
   "metadata": {},
   "outputs": [],
   "source": [
    "pathlib.Path(\"./problems/\").mkdir(parents=True, exist_ok=True)"
   ]
  },
  {
   "cell_type": "code",
   "execution_count": 8,
   "id": "julian-maple",
   "metadata": {},
   "outputs": [],
   "source": [
    "def get_time_limit(page):\n",
    "    time_limit = page.select('.time-limit')[0]\n",
    "    time_limit.div.replace_with('')\n",
    "    time = re.search('(\\d+)[^\\d]*', time_limit.text).group(1)\n",
    "    return float(time)\n",
    "\n",
    "def get_memory_limit(page):\n",
    "    memory_limit = page.select('.memory-limit')[0]\n",
    "    memory_limit.div.replace_with('')\n",
    "    memory = re.search('(\\d+)([^\\d]+)', memory_limit.text).group(1)\n",
    "    unit = re.search('(\\d+)\\s*([^\\d]+)', memory_limit.text).group(2)\n",
    "    if unit == 'megabytes':\n",
    "        memory = float(memory) * 1024 * 1024\n",
    "    return memory\n",
    "\n",
    "def get_outputs(page):\n",
    "    sample_tests = page.select('.sample-tests')[0]\n",
    "    outputs = sample_tests.find_all('div', attrs={'class': 'output'})\n",
    "    for i in range(len(outputs)):\n",
    "        outputs[i].select('.title')[0].replace_with('')\n",
    "        outputs[i] = outputs[i].text\n",
    "    return outputs\n",
    "\n",
    "def get_inputs(page):\n",
    "    sample_tests = page.select('.sample-tests')[0]\n",
    "    inputs = sample_tests.find_all('div', attrs={'class': 'input'})\n",
    "    for i in range(len(inputs)):\n",
    "        inputs[i].select('.title')[0].replace_with('')\n",
    "        inputs[i] = inputs[i].text\n",
    "    return inputs\n",
    "\n",
    "\n",
    "problem = namedtuple(\"problem\", [\"time_limit\", \"memory_limit\", \"inputs\", \"outputs\"])\n",
    "\n",
    "def scrap_item(row):\n",
    "    name = row.name\n",
    "    url = row.link\n",
    "    resp = browser.get(url)\n",
    "    if not resp.headers['Content-Type'].startswith('text/html'):\n",
    "        print(f'url {url} is not html and is malformed')\n",
    "        return -1\n",
    "    browser.open(url)\n",
    "    resp = browser.page\n",
    "    time_limit = get_time_limit(resp)\n",
    "    memory_limit = get_memory_limit(resp)\n",
    "    inputs = get_inputs(resp)\n",
    "    outputs = get_outputs(resp)\n",
    "    return problem(time_limit=time_limit, memory_limit=memory_limit, inputs=inputs, outputs=outputs)\n"
   ]
  },
  {
   "cell_type": "code",
   "execution_count": null,
   "metadata": {},
   "outputs": [],
   "source": []
  }
 ],
 "metadata": {
  "kernelspec": {
   "display_name": "Python 3",
   "language": "python",
   "name": "python3"
  },
  "language_info": {
   "codemirror_mode": {
    "name": "ipython",
    "version": 3
   },
   "file_extension": ".py",
   "mimetype": "text/x-python",
   "name": "python",
   "nbconvert_exporter": "python",
   "pygments_lexer": "ipython3",
   "version": "3.9.0-final"
  }
 },
 "nbformat": 4,
 "nbformat_minor": 5
}